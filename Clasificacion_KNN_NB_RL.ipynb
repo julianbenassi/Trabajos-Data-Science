{
 "cells": [
  {
   "cell_type": "markdown",
   "id": "8f6cda22",
   "metadata": {},
   "source": [
    "# TP FINAL - Grupo 9 - CLASIFICACIÓN: KNN, NB, Regresión Logística "
   ]
  },
  {
   "cell_type": "markdown",
   "id": "9c48aa28",
   "metadata": {},
   "source": [
    "#### Importamos las librerías"
   ]
  },
  {
   "cell_type": "code",
   "execution_count": 1,
   "id": "00e2b8f2",
   "metadata": {},
   "outputs": [],
   "source": [
    "# Tratamiento de datos\n",
    "# ==============================================================================\n",
    "import numpy as np\n",
    "import pandas as pd\n",
    "\n",
    "# Gráficos\n",
    "# ==============================================================================\n",
    "%matplotlib inline\n",
    "from matplotlib import pyplot as plt\n",
    "import seaborn as sns\n",
    "\n",
    "\n",
    "# Modelos de Clasificación\n",
    "# ==============================================================================\n",
    "from sklearn.linear_model import LogisticRegression\n",
    "from sklearn.neighbors import KNeighborsClassifier\n",
    "from sklearn.naive_bayes import GaussianNB\n",
    "from sklearn.model_selection import GridSearchCV, train_test_split, cross_val_score, KFold\n",
    "from sklearn.model_selection import StratifiedKFold\n",
    "\n",
    "# Evaluación de modelos\n",
    "# ==============================================================================\n",
    "from sklearn.metrics import confusion_matrix, accuracy_score, precision_score, recall_score, classification_report\n",
    "from sklearn.metrics import roc_curve, auc\n",
    "from sklearn.preprocessing import StandardScaler\n"
   ]
  },
  {
   "cell_type": "markdown",
   "id": "26d30ba2",
   "metadata": {},
   "source": [
    "## Análisis Exploratorio\n",
    "\n",
    "#### Importamos el dataset y realizamos un análisis exploratorio del mismo."
   ]
  },
  {
   "cell_type": "code",
   "execution_count": 2,
   "id": "2cd62aa4",
   "metadata": {},
   "outputs": [
    {
     "data": {
      "text/html": [
       "<div>\n",
       "<style scoped>\n",
       "    .dataframe tbody tr th:only-of-type {\n",
       "        vertical-align: middle;\n",
       "    }\n",
       "\n",
       "    .dataframe tbody tr th {\n",
       "        vertical-align: top;\n",
       "    }\n",
       "\n",
       "    .dataframe thead th {\n",
       "        text-align: right;\n",
       "    }\n",
       "</style>\n",
       "<table border=\"1\" class=\"dataframe\">\n",
       "  <thead>\n",
       "    <tr style=\"text-align: right;\">\n",
       "      <th></th>\n",
       "      <th>hash</th>\n",
       "      <th>tipo</th>\n",
       "      <th>fs_size</th>\n",
       "      <th>raw_size</th>\n",
       "      <th>file_extension</th>\n",
       "      <th>cantidad_procesos</th>\n",
       "      <th>cantidad_procesos_red</th>\n",
       "      <th>cantidad_objetos</th>\n",
       "      <th>cantidad_DLLs</th>\n",
       "      <th>cantidad_acciones_registros</th>\n",
       "      <th>ATTEMPT_TO_COPY_ITSELF</th>\n",
       "      <th>ATTEMPT_TO_EXECUTE_AFTER_RENAME</th>\n",
       "      <th>VBA_ATTEMPT_TO_CALL_API</th>\n",
       "      <th>IMAGE_HAS_SHARED_MEMORY_SECTION</th>\n",
       "      <th>HEUR_APPLICATION_CONTAINS_RUNTIME_DATA</th>\n",
       "      <th>INTERNAL_HAS_JAVA_CLASS_EXTRACT</th>\n",
       "    </tr>\n",
       "  </thead>\n",
       "  <tbody>\n",
       "    <tr>\n",
       "      <th>0</th>\n",
       "      <td>00883eb40a25c5401b7b82c63d485f6006cf6251</td>\n",
       "      <td>Backdoors</td>\n",
       "      <td>733630</td>\n",
       "      <td>0</td>\n",
       "      <td>exe</td>\n",
       "      <td>1</td>\n",
       "      <td>0</td>\n",
       "      <td>2</td>\n",
       "      <td>53</td>\n",
       "      <td>5</td>\n",
       "      <td>5</td>\n",
       "      <td>2</td>\n",
       "      <td>0</td>\n",
       "      <td>0</td>\n",
       "      <td>0</td>\n",
       "      <td>2</td>\n",
       "    </tr>\n",
       "    <tr>\n",
       "      <th>1</th>\n",
       "      <td>0157e0df4dfcb63e10d7c173a5304e26d11dc708</td>\n",
       "      <td>Backdoors</td>\n",
       "      <td>36817155</td>\n",
       "      <td>5741568</td>\n",
       "      <td>exe</td>\n",
       "      <td>6</td>\n",
       "      <td>0</td>\n",
       "      <td>24</td>\n",
       "      <td>263</td>\n",
       "      <td>25</td>\n",
       "      <td>6</td>\n",
       "      <td>4</td>\n",
       "      <td>1</td>\n",
       "      <td>6</td>\n",
       "      <td>65</td>\n",
       "      <td>0</td>\n",
       "    </tr>\n",
       "    <tr>\n",
       "      <th>2</th>\n",
       "      <td>05704f6ea9470096a8642ea1f1ba165c2d79cf53</td>\n",
       "      <td>Backdoors</td>\n",
       "      <td>380928</td>\n",
       "      <td>0</td>\n",
       "      <td>dll</td>\n",
       "      <td>2</td>\n",
       "      <td>0</td>\n",
       "      <td>0</td>\n",
       "      <td>5</td>\n",
       "      <td>0</td>\n",
       "      <td>4</td>\n",
       "      <td>0</td>\n",
       "      <td>7</td>\n",
       "      <td>2</td>\n",
       "      <td>0</td>\n",
       "      <td>4</td>\n",
       "    </tr>\n",
       "    <tr>\n",
       "      <th>3</th>\n",
       "      <td>06cd99dbda1662c2cfc279d0a93e3cad49dad958</td>\n",
       "      <td>Backdoors</td>\n",
       "      <td>3094987</td>\n",
       "      <td>54272</td>\n",
       "      <td>exe</td>\n",
       "      <td>7</td>\n",
       "      <td>0</td>\n",
       "      <td>4</td>\n",
       "      <td>156</td>\n",
       "      <td>12</td>\n",
       "      <td>5</td>\n",
       "      <td>7</td>\n",
       "      <td>6</td>\n",
       "      <td>7</td>\n",
       "      <td>590</td>\n",
       "      <td>0</td>\n",
       "    </tr>\n",
       "    <tr>\n",
       "      <th>4</th>\n",
       "      <td>087ce02c20903ebe83535f95a8ff2919de732fe1</td>\n",
       "      <td>Backdoors</td>\n",
       "      <td>2029026</td>\n",
       "      <td>5120</td>\n",
       "      <td>exe</td>\n",
       "      <td>7</td>\n",
       "      <td>3</td>\n",
       "      <td>0</td>\n",
       "      <td>134</td>\n",
       "      <td>25</td>\n",
       "      <td>2</td>\n",
       "      <td>6</td>\n",
       "      <td>5</td>\n",
       "      <td>1</td>\n",
       "      <td>312</td>\n",
       "      <td>3</td>\n",
       "    </tr>\n",
       "  </tbody>\n",
       "</table>\n",
       "</div>"
      ],
      "text/plain": [
       "                                       hash       tipo   fs_size  raw_size  \\\n",
       "0  00883eb40a25c5401b7b82c63d485f6006cf6251  Backdoors    733630         0   \n",
       "1  0157e0df4dfcb63e10d7c173a5304e26d11dc708  Backdoors  36817155   5741568   \n",
       "2  05704f6ea9470096a8642ea1f1ba165c2d79cf53  Backdoors    380928         0   \n",
       "3  06cd99dbda1662c2cfc279d0a93e3cad49dad958  Backdoors   3094987     54272   \n",
       "4  087ce02c20903ebe83535f95a8ff2919de732fe1  Backdoors   2029026      5120   \n",
       "\n",
       "  file_extension  cantidad_procesos  cantidad_procesos_red  cantidad_objetos  \\\n",
       "0            exe                  1                      0                 2   \n",
       "1            exe                  6                      0                24   \n",
       "2            dll                  2                      0                 0   \n",
       "3            exe                  7                      0                 4   \n",
       "4            exe                  7                      3                 0   \n",
       "\n",
       "   cantidad_DLLs  cantidad_acciones_registros  ATTEMPT_TO_COPY_ITSELF  \\\n",
       "0             53                            5                       5   \n",
       "1            263                           25                       6   \n",
       "2              5                            0                       4   \n",
       "3            156                           12                       5   \n",
       "4            134                           25                       2   \n",
       "\n",
       "   ATTEMPT_TO_EXECUTE_AFTER_RENAME  VBA_ATTEMPT_TO_CALL_API  \\\n",
       "0                                2                        0   \n",
       "1                                4                        1   \n",
       "2                                0                        7   \n",
       "3                                7                        6   \n",
       "4                                6                        5   \n",
       "\n",
       "   IMAGE_HAS_SHARED_MEMORY_SECTION  HEUR_APPLICATION_CONTAINS_RUNTIME_DATA  \\\n",
       "0                                0                                       0   \n",
       "1                                6                                      65   \n",
       "2                                2                                       0   \n",
       "3                                7                                     590   \n",
       "4                                1                                     312   \n",
       "\n",
       "   INTERNAL_HAS_JAVA_CLASS_EXTRACT  \n",
       "0                                2  \n",
       "1                                0  \n",
       "2                                4  \n",
       "3                                0  \n",
       "4                                3  "
      ]
     },
     "execution_count": 2,
     "metadata": {},
     "output_type": "execute_result"
    }
   ],
   "source": [
    "data_location = './Data/All_tipos.csv'\n",
    "df_virus = pd.read_csv(data_location)\n",
    "\n",
    "df_virus.head()"
   ]
  },
  {
   "cell_type": "code",
   "execution_count": 3,
   "id": "e85e2d29",
   "metadata": {},
   "outputs": [
    {
     "data": {
      "text/plain": [
       "(1485, 16)"
      ]
     },
     "execution_count": 3,
     "metadata": {},
     "output_type": "execute_result"
    }
   ],
   "source": [
    "# ¿Cuántas observaciones hay en la tabla? \n",
    "df_virus.shape"
   ]
  },
  {
   "cell_type": "code",
   "execution_count": 4,
   "id": "cc9a0ae9",
   "metadata": {
    "scrolled": true
   },
   "outputs": [
    {
     "name": "stdout",
     "output_type": "stream",
     "text": [
      "<class 'pandas.core.frame.DataFrame'>\n",
      "RangeIndex: 1485 entries, 0 to 1484\n",
      "Data columns (total 16 columns):\n",
      " #   Column                                  Non-Null Count  Dtype\n",
      "---  ------                                  --------------  -----\n",
      " 0   hash                                    1485 non-null   bool \n",
      " 1   tipo                                    1485 non-null   bool \n",
      " 2   fs_size                                 1485 non-null   bool \n",
      " 3   raw_size                                1485 non-null   bool \n",
      " 4   file_extension                          1485 non-null   bool \n",
      " 5   cantidad_procesos                       1485 non-null   bool \n",
      " 6   cantidad_procesos_red                   1485 non-null   bool \n",
      " 7   cantidad_objetos                        1485 non-null   bool \n",
      " 8   cantidad_DLLs                           1485 non-null   bool \n",
      " 9   cantidad_acciones_registros             1485 non-null   bool \n",
      " 10  ATTEMPT_TO_COPY_ITSELF                  1485 non-null   bool \n",
      " 11  ATTEMPT_TO_EXECUTE_AFTER_RENAME         1485 non-null   bool \n",
      " 12  VBA_ATTEMPT_TO_CALL_API                 1485 non-null   bool \n",
      " 13  IMAGE_HAS_SHARED_MEMORY_SECTION         1485 non-null   bool \n",
      " 14  HEUR_APPLICATION_CONTAINS_RUNTIME_DATA  1485 non-null   bool \n",
      " 15  INTERNAL_HAS_JAVA_CLASS_EXTRACT         1485 non-null   bool \n",
      "dtypes: bool(16)\n",
      "memory usage: 23.3 KB\n"
     ]
    }
   ],
   "source": [
    "# ¿Tenemos datos faltantes?\n",
    "df_virus.isna().info() "
   ]
  },
  {
   "cell_type": "code",
   "execution_count": 5,
   "id": "9fbe891c",
   "metadata": {},
   "outputs": [
    {
     "data": {
      "text/plain": [
       "array(['Backdoors', 'Downloader', 'Dropper', 'Filecoder', 'Riskware'],\n",
       "      dtype=object)"
      ]
     },
     "execution_count": 5,
     "metadata": {},
     "output_type": "execute_result"
    }
   ],
   "source": [
    "#Cantidad de variables target\n",
    "df_virus['tipo'].unique()"
   ]
  },
  {
   "cell_type": "code",
   "execution_count": 6,
   "id": "4a1448e4",
   "metadata": {},
   "outputs": [
    {
     "data": {
      "text/plain": [
       "Dropper       0.363636\n",
       "Downloader    0.290909\n",
       "Filecoder     0.143434\n",
       "Backdoors     0.120539\n",
       "Riskware      0.081481\n",
       "Name: tipo, dtype: float64"
      ]
     },
     "execution_count": 6,
     "metadata": {},
     "output_type": "execute_result"
    }
   ],
   "source": [
    "# ¿Cómo se distribuye las variables target?\n",
    "df_virus['tipo'].value_counts(normalize=True)"
   ]
  },
  {
   "cell_type": "code",
   "execution_count": 7,
   "id": "402f8aa7",
   "metadata": {},
   "outputs": [
    {
     "data": {
      "text/html": [
       "<div>\n",
       "<style scoped>\n",
       "    .dataframe tbody tr th:only-of-type {\n",
       "        vertical-align: middle;\n",
       "    }\n",
       "\n",
       "    .dataframe tbody tr th {\n",
       "        vertical-align: top;\n",
       "    }\n",
       "\n",
       "    .dataframe thead th {\n",
       "        text-align: right;\n",
       "    }\n",
       "</style>\n",
       "<table border=\"1\" class=\"dataframe\">\n",
       "  <thead>\n",
       "    <tr style=\"text-align: right;\">\n",
       "      <th></th>\n",
       "      <th>fs_size</th>\n",
       "      <th>raw_size</th>\n",
       "      <th>cantidad_procesos</th>\n",
       "      <th>cantidad_procesos_red</th>\n",
       "      <th>cantidad_objetos</th>\n",
       "      <th>cantidad_DLLs</th>\n",
       "      <th>cantidad_acciones_registros</th>\n",
       "      <th>ATTEMPT_TO_COPY_ITSELF</th>\n",
       "      <th>ATTEMPT_TO_EXECUTE_AFTER_RENAME</th>\n",
       "      <th>VBA_ATTEMPT_TO_CALL_API</th>\n",
       "      <th>IMAGE_HAS_SHARED_MEMORY_SECTION</th>\n",
       "      <th>HEUR_APPLICATION_CONTAINS_RUNTIME_DATA</th>\n",
       "      <th>INTERNAL_HAS_JAVA_CLASS_EXTRACT</th>\n",
       "    </tr>\n",
       "  </thead>\n",
       "  <tbody>\n",
       "    <tr>\n",
       "      <th>count</th>\n",
       "      <td>1.485000e+03</td>\n",
       "      <td>1.485000e+03</td>\n",
       "      <td>1485.000000</td>\n",
       "      <td>1485.000000</td>\n",
       "      <td>1485.000000</td>\n",
       "      <td>1485.000000</td>\n",
       "      <td>1485.000000</td>\n",
       "      <td>1485.000000</td>\n",
       "      <td>1485.000000</td>\n",
       "      <td>1485.000000</td>\n",
       "      <td>1485.000000</td>\n",
       "      <td>1485.000000</td>\n",
       "      <td>1485.000000</td>\n",
       "    </tr>\n",
       "    <tr>\n",
       "      <th>mean</th>\n",
       "      <td>3.021759e+07</td>\n",
       "      <td>3.167315e+06</td>\n",
       "      <td>5.832997</td>\n",
       "      <td>2.455219</td>\n",
       "      <td>12.032323</td>\n",
       "      <td>195.486195</td>\n",
       "      <td>118.557576</td>\n",
       "      <td>2.728620</td>\n",
       "      <td>4.253199</td>\n",
       "      <td>9.257239</td>\n",
       "      <td>8.259933</td>\n",
       "      <td>270.480135</td>\n",
       "      <td>1.824242</td>\n",
       "    </tr>\n",
       "    <tr>\n",
       "      <th>std</th>\n",
       "      <td>3.951022e+07</td>\n",
       "      <td>5.978435e+06</td>\n",
       "      <td>7.427393</td>\n",
       "      <td>6.542226</td>\n",
       "      <td>16.386431</td>\n",
       "      <td>246.837503</td>\n",
       "      <td>244.578677</td>\n",
       "      <td>3.117168</td>\n",
       "      <td>6.959490</td>\n",
       "      <td>10.886319</td>\n",
       "      <td>11.240679</td>\n",
       "      <td>332.883739</td>\n",
       "      <td>1.796434</td>\n",
       "    </tr>\n",
       "    <tr>\n",
       "      <th>min</th>\n",
       "      <td>2.621440e+05</td>\n",
       "      <td>0.000000e+00</td>\n",
       "      <td>1.000000</td>\n",
       "      <td>0.000000</td>\n",
       "      <td>0.000000</td>\n",
       "      <td>1.000000</td>\n",
       "      <td>0.000000</td>\n",
       "      <td>0.000000</td>\n",
       "      <td>0.000000</td>\n",
       "      <td>0.000000</td>\n",
       "      <td>0.000000</td>\n",
       "      <td>0.000000</td>\n",
       "      <td>0.000000</td>\n",
       "    </tr>\n",
       "    <tr>\n",
       "      <th>25%</th>\n",
       "      <td>1.547159e+06</td>\n",
       "      <td>0.000000e+00</td>\n",
       "      <td>2.000000</td>\n",
       "      <td>0.000000</td>\n",
       "      <td>2.000000</td>\n",
       "      <td>48.000000</td>\n",
       "      <td>0.000000</td>\n",
       "      <td>0.000000</td>\n",
       "      <td>1.000000</td>\n",
       "      <td>2.000000</td>\n",
       "      <td>1.000000</td>\n",
       "      <td>0.000000</td>\n",
       "      <td>0.000000</td>\n",
       "    </tr>\n",
       "    <tr>\n",
       "      <th>50%</th>\n",
       "      <td>5.609653e+06</td>\n",
       "      <td>3.840000e+04</td>\n",
       "      <td>3.000000</td>\n",
       "      <td>1.000000</td>\n",
       "      <td>7.000000</td>\n",
       "      <td>154.000000</td>\n",
       "      <td>25.000000</td>\n",
       "      <td>2.000000</td>\n",
       "      <td>2.000000</td>\n",
       "      <td>4.000000</td>\n",
       "      <td>3.000000</td>\n",
       "      <td>50.000000</td>\n",
       "      <td>1.000000</td>\n",
       "    </tr>\n",
       "    <tr>\n",
       "      <th>75%</th>\n",
       "      <td>5.812544e+07</td>\n",
       "      <td>5.438176e+06</td>\n",
       "      <td>10.000000</td>\n",
       "      <td>2.000000</td>\n",
       "      <td>19.000000</td>\n",
       "      <td>264.000000</td>\n",
       "      <td>58.000000</td>\n",
       "      <td>5.000000</td>\n",
       "      <td>4.000000</td>\n",
       "      <td>14.000000</td>\n",
       "      <td>9.000000</td>\n",
       "      <td>548.000000</td>\n",
       "      <td>3.000000</td>\n",
       "    </tr>\n",
       "    <tr>\n",
       "      <th>max</th>\n",
       "      <td>2.290279e+08</td>\n",
       "      <td>9.028045e+07</td>\n",
       "      <td>91.000000</td>\n",
       "      <td>103.000000</td>\n",
       "      <td>190.000000</td>\n",
       "      <td>4003.000000</td>\n",
       "      <td>2022.000000</td>\n",
       "      <td>13.000000</td>\n",
       "      <td>70.000000</td>\n",
       "      <td>43.000000</td>\n",
       "      <td>69.000000</td>\n",
       "      <td>1000.000000</td>\n",
       "      <td>5.000000</td>\n",
       "    </tr>\n",
       "  </tbody>\n",
       "</table>\n",
       "</div>"
      ],
      "text/plain": [
       "            fs_size      raw_size  cantidad_procesos  cantidad_procesos_red  \\\n",
       "count  1.485000e+03  1.485000e+03        1485.000000            1485.000000   \n",
       "mean   3.021759e+07  3.167315e+06           5.832997               2.455219   \n",
       "std    3.951022e+07  5.978435e+06           7.427393               6.542226   \n",
       "min    2.621440e+05  0.000000e+00           1.000000               0.000000   \n",
       "25%    1.547159e+06  0.000000e+00           2.000000               0.000000   \n",
       "50%    5.609653e+06  3.840000e+04           3.000000               1.000000   \n",
       "75%    5.812544e+07  5.438176e+06          10.000000               2.000000   \n",
       "max    2.290279e+08  9.028045e+07          91.000000             103.000000   \n",
       "\n",
       "       cantidad_objetos  cantidad_DLLs  cantidad_acciones_registros  \\\n",
       "count       1485.000000    1485.000000                  1485.000000   \n",
       "mean          12.032323     195.486195                   118.557576   \n",
       "std           16.386431     246.837503                   244.578677   \n",
       "min            0.000000       1.000000                     0.000000   \n",
       "25%            2.000000      48.000000                     0.000000   \n",
       "50%            7.000000     154.000000                    25.000000   \n",
       "75%           19.000000     264.000000                    58.000000   \n",
       "max          190.000000    4003.000000                  2022.000000   \n",
       "\n",
       "       ATTEMPT_TO_COPY_ITSELF  ATTEMPT_TO_EXECUTE_AFTER_RENAME  \\\n",
       "count             1485.000000                      1485.000000   \n",
       "mean                 2.728620                         4.253199   \n",
       "std                  3.117168                         6.959490   \n",
       "min                  0.000000                         0.000000   \n",
       "25%                  0.000000                         1.000000   \n",
       "50%                  2.000000                         2.000000   \n",
       "75%                  5.000000                         4.000000   \n",
       "max                 13.000000                        70.000000   \n",
       "\n",
       "       VBA_ATTEMPT_TO_CALL_API  IMAGE_HAS_SHARED_MEMORY_SECTION  \\\n",
       "count              1485.000000                      1485.000000   \n",
       "mean                  9.257239                         8.259933   \n",
       "std                  10.886319                        11.240679   \n",
       "min                   0.000000                         0.000000   \n",
       "25%                   2.000000                         1.000000   \n",
       "50%                   4.000000                         3.000000   \n",
       "75%                  14.000000                         9.000000   \n",
       "max                  43.000000                        69.000000   \n",
       "\n",
       "       HEUR_APPLICATION_CONTAINS_RUNTIME_DATA  INTERNAL_HAS_JAVA_CLASS_EXTRACT  \n",
       "count                             1485.000000                      1485.000000  \n",
       "mean                               270.480135                         1.824242  \n",
       "std                                332.883739                         1.796434  \n",
       "min                                  0.000000                         0.000000  \n",
       "25%                                  0.000000                         0.000000  \n",
       "50%                                 50.000000                         1.000000  \n",
       "75%                                548.000000                         3.000000  \n",
       "max                               1000.000000                         5.000000  "
      ]
     },
     "execution_count": 7,
     "metadata": {},
     "output_type": "execute_result"
    }
   ],
   "source": [
    "# ¿Dentro de qué rango se encuentran las variables?\n",
    "df_virus.describe()"
   ]
  },
  {
   "cell_type": "code",
   "execution_count": 8,
   "id": "bae243ce",
   "metadata": {},
   "outputs": [
    {
     "data": {
      "image/png": "[encoded data removed]",
      "text/plain": [
       "<Figure size 1440x720 with 2 Axes>"
      ]
     },
     "metadata": {
      "needs_background": "light"
     },
     "output_type": "display_data"
    }
   ],
   "source": [
    "# ¿Qué variables están más correlacionadas?\n",
    "plt.figure(figsize=(20,10))\n",
    "sns.heatmap(df_virus.corr(), annot=False, vmin=-1, cmap='Blues');\n",
    "#Cantidad de DDL tiene una correlación cercana a 1 con cantidad_DLL (lo dejamos a priori para mantener la mayor cantidad de features)"
   ]
  },
  {
   "cell_type": "markdown",
   "id": "7662f8eb",
   "metadata": {},
   "source": [
    "### Preparación de Datos"
   ]
  },
  {
   "cell_type": "code",
   "execution_count": 9,
   "id": "66abc07e",
   "metadata": {},
   "outputs": [],
   "source": [
    "# Eliminamos los registros que no son numéricos\n",
    "df_numericals = df_virus.drop(['hash', 'tipo', 'file_extension'],axis=1)"
   ]
  },
  {
   "cell_type": "code",
   "execution_count": 10,
   "id": "2f11660b",
   "metadata": {},
   "outputs": [
    {
     "data": {
      "text/plain": [
       "2    0.363636\n",
       "1    0.290909\n",
       "3    0.143434\n",
       "0    0.120539\n",
       "4    0.081481\n",
       "Name: tipo, dtype: float64"
      ]
     },
     "execution_count": 10,
     "metadata": {},
     "output_type": "execute_result"
    }
   ],
   "source": [
    "#Reemplazamos las etiquetas categóricas por numéricas\n",
    "to_replace = ['Backdoors', 'Downloader', 'Dropper', 'Filecoder', 'Riskware']\n",
    "replace_to = [0,1,2,3,4]\n",
    "target = df_virus['tipo'].replace(to_replace = to_replace, value = replace_to)\n",
    "target.value_counts(normalize=True)"
   ]
  },
  {
   "cell_type": "code",
   "execution_count": 11,
   "id": "5de2621a",
   "metadata": {},
   "outputs": [],
   "source": [
    "# Preparamos la matriz de features y el vector objetivo\n",
    "X = df_numericals\n",
    "y = target"
   ]
  },
  {
   "cell_type": "code",
   "execution_count": 12,
   "id": "708bb0c9",
   "metadata": {},
   "outputs": [],
   "source": [
    "# Separamos un set de testeo para evaluar el modelo\n",
    "X_train, X_test, y_train, y_test = train_test_split(X, y, stratify=y, random_state = 0)"
   ]
  },
  {
   "cell_type": "markdown",
   "id": "632b06b5",
   "metadata": {},
   "source": [
    "## Clasificación"
   ]
  },
  {
   "cell_type": "markdown",
   "id": "a4bebb56",
   "metadata": {},
   "source": [
    "### Regresión Logística"
   ]
  },
  {
   "cell_type": "code",
   "execution_count": 13,
   "id": "4814cac6",
   "metadata": {},
   "outputs": [],
   "source": [
    "# Estandarizamos los datos para que la regularización sea correcta\n",
    "scaler = StandardScaler()\n",
    "X_train_std_lr = scaler.fit_transform(X_train)\n",
    "X_test_std_lr = scaler.transform(X_test)"
   ]
  },
  {
   "cell_type": "code",
   "execution_count": 14,
   "id": "7058a984",
   "metadata": {},
   "outputs": [
    {
     "data": {
      "text/plain": [
       "LogisticRegression()"
      ]
     },
     "execution_count": 14,
     "metadata": {},
     "output_type": "execute_result"
    }
   ],
   "source": [
    "# Ajuste del Modelo\n",
    "\n",
    "lr = LogisticRegression()\n",
    "\n",
    "lr.fit(X_train_std_lr, y_train)"
   ]
  },
  {
   "cell_type": "code",
   "execution_count": 15,
   "id": "109e2c8f",
   "metadata": {},
   "outputs": [
    {
     "data": {
      "text/plain": [
       "0.7915543575920935"
      ]
     },
     "execution_count": 15,
     "metadata": {},
     "output_type": "execute_result"
    }
   ],
   "source": [
    "# Evaluación del Modelo\n",
    "accuracy_score(y_train, lr.predict(X_train_std_lr))"
   ]
  },
  {
   "cell_type": "code",
   "execution_count": 16,
   "id": "cb7d3edb",
   "metadata": {},
   "outputs": [
    {
     "data": {
      "text/plain": [
       "0.8279569892473119"
      ]
     },
     "execution_count": 16,
     "metadata": {},
     "output_type": "execute_result"
    }
   ],
   "source": [
    "# Evaluación del Modelo Test\n",
    "accuracy_score(y_test, lr.predict(X_test_std_lr))"
   ]
  },
  {
   "cell_type": "code",
   "execution_count": 17,
   "id": "98b35068",
   "metadata": {},
   "outputs": [
    {
     "data": {
      "text/plain": [
       "Text(33.0, 0.5, 'Reales')"
      ]
     },
     "execution_count": 17,
     "metadata": {},
     "output_type": "execute_result"
    },
    {
     "data": {
      "image/png": "[encoded data removed]",
      "text/plain": [
       "<Figure size 432x288 with 2 Axes>"
      ]
     },
     "metadata": {
      "needs_background": "light"
     },
     "output_type": "display_data"
    }
   ],
   "source": [
    "sns.heatmap(confusion_matrix(y_test, lr.predict(X_test_std_lr)), annot=True, fmt='4d')\n",
    "plt.xlabel('Predichos')\n",
    "plt.ylabel('Reales')"
   ]
  },
  {
   "cell_type": "markdown",
   "id": "58288552",
   "metadata": {},
   "source": [
    "### KNN"
   ]
  },
  {
   "cell_type": "code",
   "execution_count": 18,
   "id": "8bc3defe",
   "metadata": {},
   "outputs": [],
   "source": [
    "# Estandarizamos los datos para que la regularización sea correcta\n",
    "scaler = StandardScaler()\n",
    "X_train_std_knn = scaler.fit_transform(X_train)\n",
    "X_test_std_knn = scaler.transform(X_test)"
   ]
  },
  {
   "cell_type": "code",
   "execution_count": 19,
   "id": "e4ab692c",
   "metadata": {
    "scrolled": true
   },
   "outputs": [
    {
     "name": "stdout",
     "output_type": "stream",
     "text": [
      "Medias: [ 0.  0.  0.  0.  0. -0.  0. -0. -0. -0.  0. -0. -0.]\n",
      "Desvio: [1. 1. 1. 1. 1. 1. 1. 1. 1. 1. 1. 1. 1.]\n"
     ]
    }
   ],
   "source": [
    "# Verificamos que las variables ahora tengan media 0 y desvío estandar 1\n",
    "print('Medias:', np.mean(X_train_std_knn, axis=0).round(2))\n",
    "print('Desvio:', np.std(X_train_std_knn, axis=0).round(2))"
   ]
  },
  {
   "cell_type": "code",
   "execution_count": 20,
   "id": "893ab940",
   "metadata": {},
   "outputs": [],
   "source": [
    "#Generamos un modelo KNN con los datos normalizados\n",
    "\n",
    "from sklearn.model_selection import cross_val_score, KFold\n",
    "\n",
    "# Usamos cross validation con 5 folds\n",
    "kf = KFold(n_splits=5, shuffle=True, random_state=12)\n",
    "\n",
    "scores_para_df = []\n",
    "\n",
    "for i in range(1, 26):\n",
    "    \n",
    "    # En cada iteración, instanciamos el modelo con un hiperparámetro distinto\n",
    "    model = KNeighborsClassifier(n_neighbors=i)\n",
    "    \n",
    "    # cross_val_scores nos devuelve un array de 5 resultados,\n",
    "    # uno por cada partición que hizo automáticamente CV\n",
    "    cv_scores = cross_val_score(model, X_train_std_knn, y_train, cv=kf)\n",
    "    \n",
    "    # Para cada valor de n_neighbours, creamos un diccionario con el valor\n",
    "    # de n_neighbours y la media de los scores\n",
    "    dict_row_score = {'score_medio':np.mean(cv_scores), 'n_neighbors':i}\n",
    "    \n",
    "    # Guardamos cada uno en la lista de diccionarios\n",
    "    scores_para_df.append(dict_row_score)"
   ]
  },
  {
   "cell_type": "code",
   "execution_count": 21,
   "id": "a5d57d27",
   "metadata": {},
   "outputs": [],
   "source": [
    "# Creamos el DataFrame a partir de la lista de diccionarios\n",
    "df_scores = pd.DataFrame(scores_para_df)"
   ]
  },
  {
   "cell_type": "code",
   "execution_count": 22,
   "id": "e8e6827d",
   "metadata": {},
   "outputs": [
    {
     "data": {
      "text/html": [
       "<div>\n",
       "<style scoped>\n",
       "    .dataframe tbody tr th:only-of-type {\n",
       "        vertical-align: middle;\n",
       "    }\n",
       "\n",
       "    .dataframe tbody tr th {\n",
       "        vertical-align: top;\n",
       "    }\n",
       "\n",
       "    .dataframe thead th {\n",
       "        text-align: right;\n",
       "    }\n",
       "</style>\n",
       "<table border=\"1\" class=\"dataframe\">\n",
       "  <thead>\n",
       "    <tr style=\"text-align: right;\">\n",
       "      <th></th>\n",
       "      <th>score_medio</th>\n",
       "      <th>n_neighbors</th>\n",
       "    </tr>\n",
       "  </thead>\n",
       "  <tbody>\n",
       "    <tr>\n",
       "      <th>0</th>\n",
       "      <td>0.811312</td>\n",
       "      <td>1</td>\n",
       "    </tr>\n",
       "    <tr>\n",
       "      <th>1</th>\n",
       "      <td>0.798727</td>\n",
       "      <td>2</td>\n",
       "    </tr>\n",
       "    <tr>\n",
       "      <th>2</th>\n",
       "      <td>0.814891</td>\n",
       "      <td>3</td>\n",
       "    </tr>\n",
       "  </tbody>\n",
       "</table>\n",
       "</div>"
      ],
      "text/plain": [
       "   score_medio  n_neighbors\n",
       "0     0.811312            1\n",
       "1     0.798727            2\n",
       "2     0.814891            3"
      ]
     },
     "execution_count": 22,
     "metadata": {},
     "output_type": "execute_result"
    }
   ],
   "source": [
    "# Obtenemos una nueva lista con el accuracy promedio para cada valor de K\n",
    "df_scores.head(3)"
   ]
  },
  {
   "cell_type": "code",
   "execution_count": 23,
   "id": "f028e3dc",
   "metadata": {
    "scrolled": true
   },
   "outputs": [
    {
     "data": {
      "text/html": [
       "<div>\n",
       "<style scoped>\n",
       "    .dataframe tbody tr th:only-of-type {\n",
       "        vertical-align: middle;\n",
       "    }\n",
       "\n",
       "    .dataframe tbody tr th {\n",
       "        vertical-align: top;\n",
       "    }\n",
       "\n",
       "    .dataframe thead th {\n",
       "        text-align: right;\n",
       "    }\n",
       "</style>\n",
       "<table border=\"1\" class=\"dataframe\">\n",
       "  <thead>\n",
       "    <tr style=\"text-align: right;\">\n",
       "      <th></th>\n",
       "      <th>score_medio</th>\n",
       "      <th>n_neighbors</th>\n",
       "    </tr>\n",
       "  </thead>\n",
       "  <tbody>\n",
       "    <tr>\n",
       "      <th>2</th>\n",
       "      <td>0.814891</td>\n",
       "      <td>3</td>\n",
       "    </tr>\n",
       "  </tbody>\n",
       "</table>\n",
       "</div>"
      ],
      "text/plain": [
       "   score_medio  n_neighbors\n",
       "2     0.814891            3"
      ]
     },
     "execution_count": 23,
     "metadata": {},
     "output_type": "execute_result"
    }
   ],
   "source": [
    "#Averiguamos el valor de 'neighbors'que maximiza el score_medio\n",
    "df_scores.loc[df_scores.score_medio == df_scores.score_medio.max()]"
   ]
  },
  {
   "cell_type": "code",
   "execution_count": 24,
   "id": "fd0ed97b",
   "metadata": {},
   "outputs": [
    {
     "data": {
      "image/png": "[encoded data removed]",
      "text/plain": [
       "<Figure size 432x288 with 1 Axes>"
      ]
     },
     "metadata": {
      "needs_background": "light"
     },
     "output_type": "display_data"
    }
   ],
   "source": [
    "#Graficamos la media por cada n_neighbors\n",
    "plt.plot(df_scores['n_neighbors'], df_scores['score_medio'], color='b')\n",
    "plt.xlabel('Valor de K'); plt.ylabel('Accuracy')\n",
    "plt.grid(); plt.show()"
   ]
  },
  {
   "cell_type": "code",
   "execution_count": 25,
   "id": "373f7643",
   "metadata": {},
   "outputs": [
    {
     "data": {
      "text/plain": [
       "KNeighborsClassifier(n_neighbors=3)"
      ]
     },
     "execution_count": 25,
     "metadata": {},
     "output_type": "execute_result"
    }
   ],
   "source": [
    "# GridSearch para KNN\n",
    "\n",
    "knn = KNeighborsClassifier()\n",
    "\n",
    "k_range = list(range(1, 31))\n",
    "param_grid = dict(n_neighbors=k_range)\n",
    "\n",
    "folds=StratifiedKFold(n_splits=10, random_state=12, shuffle=True)\n",
    "\n",
    "grid_knn = GridSearchCV(knn, param_grid, cv=folds, scoring='accuracy')\n",
    "\n",
    "grid_knn.fit(X_train_std_knn, y_train)\n",
    "\n",
    "grid_knn.best_estimator_"
   ]
  },
  {
   "cell_type": "code",
   "execution_count": 26,
   "id": "8b718cf0",
   "metadata": {},
   "outputs": [
    {
     "data": {
      "text/plain": [
       "3"
      ]
     },
     "execution_count": 26,
     "metadata": {},
     "output_type": "execute_result"
    }
   ],
   "source": [
    "# Asignamos el valor del k óptimo a una variable\n",
    "best_k = df_scores.loc[df_scores.score_medio == df_scores.score_medio.max(),'n_neighbors'].values[0]\n",
    "best_k"
   ]
  },
  {
   "cell_type": "code",
   "execution_count": 27,
   "id": "f0279e50",
   "metadata": {},
   "outputs": [
    {
     "data": {
      "text/plain": [
       "KNeighborsClassifier(n_neighbors=3)"
      ]
     },
     "execution_count": 27,
     "metadata": {},
     "output_type": "execute_result"
    }
   ],
   "source": [
    "# Elegimos el modelo óptimo que nos había indicado cross validation\n",
    "knn = KNeighborsClassifier(n_neighbors=best_k)\n",
    "\n",
    "# Lo ajustamos sobre datos de entrenamiento\n",
    "knn.fit(X_train_std_knn, y_train)"
   ]
  },
  {
   "cell_type": "code",
   "execution_count": 28,
   "id": "47c0faa9",
   "metadata": {},
   "outputs": [
    {
     "data": {
      "text/plain": [
       "0.89937106918239"
      ]
     },
     "execution_count": 28,
     "metadata": {},
     "output_type": "execute_result"
    }
   ],
   "source": [
    "# Evaluamos qué accuracy obtenemos en train\n",
    "accuracy_score(y_train, knn.predict(X_train_std_knn))"
   ]
  },
  {
   "cell_type": "code",
   "execution_count": 29,
   "id": "774c0f0e",
   "metadata": {},
   "outputs": [],
   "source": [
    "# Lo utilizamos para predecir en test\n",
    "y_pred_knn = knn.predict(X_test_std_knn)"
   ]
  },
  {
   "cell_type": "code",
   "execution_count": 30,
   "id": "216282e2",
   "metadata": {},
   "outputs": [
    {
     "data": {
      "text/plain": [
       "0.7956989247311828"
      ]
     },
     "execution_count": 30,
     "metadata": {},
     "output_type": "execute_result"
    }
   ],
   "source": [
    "# Computamos el accuracy score en test\n",
    "accuracy_score(y_test, y_pred_knn)"
   ]
  },
  {
   "cell_type": "code",
   "execution_count": 31,
   "id": "188fcdee",
   "metadata": {},
   "outputs": [
    {
     "data": {
      "image/png": "[encoded data removed]",
      "text/plain": [
       "<Figure size 432x288 with 2 Axes>"
      ]
     },
     "metadata": {
      "needs_background": "light"
     },
     "output_type": "display_data"
    }
   ],
   "source": [
    "# Graficamos la matriz de confusión\n",
    "sns.heatmap(confusion_matrix(y_test, y_pred_knn), annot=True, fmt='.0f')\n",
    "plt.ylabel('Etiquetas reales')\n",
    "plt.xlabel('Etiquetas predichas');"
   ]
  },
  {
   "cell_type": "markdown",
   "id": "b2f5e5fd",
   "metadata": {},
   "source": [
    "### Naive Bayes Gaussiano"
   ]
  },
  {
   "cell_type": "code",
   "execution_count": 32,
   "id": "c77c5a1f",
   "metadata": {},
   "outputs": [],
   "source": [
    "# Estandarizamos los datos para que la regularización sea correcta\n",
    "scaler = StandardScaler()\n",
    "X_train_std_nb = scaler.fit_transform(X_train)\n",
    "X_test_std_nb = scaler.transform(X_test)"
   ]
  },
  {
   "cell_type": "code",
   "execution_count": 33,
   "id": "d0248b13",
   "metadata": {},
   "outputs": [
    {
     "data": {
      "text/plain": [
       "GaussianNB()"
      ]
     },
     "execution_count": 33,
     "metadata": {},
     "output_type": "execute_result"
    }
   ],
   "source": [
    "# Instanciamos y entrenamos un modelo naive bayes gaussiano\n",
    "gnb = GaussianNB()\n",
    "\n",
    "gnb.fit(X_train_std_nb, y_train)"
   ]
  },
  {
   "cell_type": "code",
   "execution_count": 34,
   "id": "0d5be8f9",
   "metadata": {},
   "outputs": [
    {
     "data": {
      "text/plain": [
       "0.7897574123989218"
      ]
     },
     "execution_count": 34,
     "metadata": {},
     "output_type": "execute_result"
    }
   ],
   "source": [
    "# Evaluamos qué accuracy obtenemos en train\n",
    "accuracy_score(y_train, gnb.predict(X_train_std_nb))"
   ]
  },
  {
   "cell_type": "code",
   "execution_count": 35,
   "id": "e7308eca",
   "metadata": {},
   "outputs": [
    {
     "data": {
      "text/plain": [
       "array([2, 1, 0, 2, 3, 2, 4, 2, 1, 4, 2, 2, 4, 0, 2, 3, 3, 0, 2, 2, 2, 3,\n",
       "       0, 1, 2, 1, 2, 2, 3, 4, 4, 0, 1, 1, 2, 2, 2, 1, 2, 3, 0, 1, 4, 2,\n",
       "       2, 1, 2, 4, 2, 1, 1, 1, 3, 2, 4, 1, 0, 0, 2, 1, 0, 4, 1, 2, 2, 0,\n",
       "       2, 3, 1, 0, 2, 1, 4, 1, 4, 1, 2, 0, 2, 0, 2, 2, 4, 3, 4, 2, 1, 2,\n",
       "       2, 2, 4, 1, 0, 0, 2, 2, 4, 1, 1, 2, 4, 1, 3, 1, 4, 0, 1, 0, 2, 0,\n",
       "       3, 2, 2, 0, 4, 0, 1, 2, 2, 2, 2, 4, 4, 0, 3, 2, 2, 2, 3, 2, 2, 4,\n",
       "       1, 1, 2, 1, 2, 2, 4, 4, 2, 2, 2, 4, 0, 1, 0, 0, 2, 2, 1, 4, 1, 1,\n",
       "       2, 3, 0, 1, 0, 2, 2, 1, 2, 1, 3, 3, 0, 3, 2, 0, 2, 2, 2, 2, 0, 4,\n",
       "       1, 1, 4, 2, 0, 3, 0, 4, 2, 4, 2, 2, 2, 2, 1, 4, 0, 3, 1, 1, 2, 1,\n",
       "       2, 1, 2, 4, 1, 2, 1, 2, 4, 2, 1, 2, 3, 1, 2, 2, 2, 0, 2, 4, 3, 3,\n",
       "       1, 2, 1, 1, 1, 4, 0, 3, 1, 1, 2, 4, 1, 4, 0, 0, 2, 3, 2, 3, 2, 2,\n",
       "       2, 1, 1, 2, 2, 2, 4, 2, 4, 0, 2, 2, 3, 1, 0, 2, 0, 2, 2, 4, 2, 4,\n",
       "       0, 2, 1, 2, 0, 4, 4, 0, 1, 1, 0, 2, 1, 1, 2, 1, 1, 4, 2, 0, 1, 1,\n",
       "       1, 1, 1, 1, 2, 1, 0, 0, 2, 4, 0, 3, 3, 1, 1, 4, 4, 3, 1, 2, 1, 2,\n",
       "       2, 1, 2, 4, 2, 1, 1, 4, 2, 3, 1, 1, 2, 4, 0, 4, 2, 1, 1, 1, 3, 2,\n",
       "       2, 0, 1, 1, 2, 2, 1, 4, 4, 1, 4, 2, 0, 1, 1, 1, 2, 2, 1, 0, 0, 2,\n",
       "       1, 2, 2, 1, 2, 4, 4, 0, 2, 1, 2, 4, 1, 1, 4, 0, 4, 0, 1, 2],\n",
       "      dtype=int64)"
      ]
     },
     "execution_count": 35,
     "metadata": {},
     "output_type": "execute_result"
    }
   ],
   "source": [
    "# Utilizamos el modelo para predecir la etiqueta de los datos de test\n",
    "y_pred_nb = gnb.predict(X_test_std_nb)\n",
    "\n",
    "y_pred_nb"
   ]
  },
  {
   "cell_type": "code",
   "execution_count": 36,
   "id": "894992b8",
   "metadata": {},
   "outputs": [
    {
     "data": {
      "text/plain": [
       "0.8064516129032258"
      ]
     },
     "execution_count": 36,
     "metadata": {},
     "output_type": "execute_result"
    }
   ],
   "source": [
    "# Computamos el accuracy score en test\n",
    "accuracy_score(y_test, y_pred_nb)"
   ]
  },
  {
   "cell_type": "code",
   "execution_count": 37,
   "id": "65c2cf9f",
   "metadata": {},
   "outputs": [
    {
     "data": {
      "image/png": "[encoded data removed]",
      "text/plain": [
       "<Figure size 432x288 with 2 Axes>"
      ]
     },
     "metadata": {
      "needs_background": "light"
     },
     "output_type": "display_data"
    }
   ],
   "source": [
    "# Graficamos la matriz de confusión\n",
    "sns.heatmap(confusion_matrix(y_test, y_pred_nb), annot=True, fmt='.0f')\n",
    "plt.ylabel('Etiquetas reales')\n",
    "plt.xlabel('Etiquetas predichas');"
   ]
  },
  {
   "cell_type": "markdown",
   "id": "d6ed8451",
   "metadata": {},
   "source": [
    "## Evaluación de Modelos"
   ]
  },
  {
   "cell_type": "markdown",
   "id": "15a70830",
   "metadata": {},
   "source": [
    "### Calculamos la proporción de casos correctamente clasificados, la precisión y el recall."
   ]
  },
  {
   "cell_type": "markdown",
   "id": "9425faf3",
   "metadata": {},
   "source": [
    "#### KNN"
   ]
  },
  {
   "cell_type": "code",
   "execution_count": 38,
   "id": "eb4bb4d5",
   "metadata": {},
   "outputs": [
    {
     "name": "stdout",
     "output_type": "stream",
     "text": [
      "Accuracy= 0.7956989247311828\n",
      "Recall= 0.7956989247311828\n",
      "Precision= 0.8069515985050445\n"
     ]
    }
   ],
   "source": [
    "print('Accuracy=', accuracy_score(y_test, y_pred_knn))\n",
    "print('Recall=', recall_score(y_test, y_pred_knn, average='weighted'))\n",
    "print('Precision=', precision_score(y_test, y_pred_knn, average='weighted'))"
   ]
  },
  {
   "cell_type": "markdown",
   "id": "da8e82ec",
   "metadata": {},
   "source": [
    "#### Naive Bayes "
   ]
  },
  {
   "cell_type": "code",
   "execution_count": 39,
   "id": "609b4726",
   "metadata": {
    "scrolled": true
   },
   "outputs": [
    {
     "name": "stdout",
     "output_type": "stream",
     "text": [
      "Accuracy= 0.8064516129032258\n",
      "Recall= 0.8064516129032258\n",
      "Precision= 0.8394511872845454\n"
     ]
    }
   ],
   "source": [
    "print('Accuracy=', accuracy_score(y_test, y_pred_nb))\n",
    "print('Recall=', recall_score(y_test, y_pred_nb,average='weighted'))\n",
    "print('Precision=', precision_score(y_test, y_pred_nb, average='weighted'))"
   ]
  },
  {
   "cell_type": "markdown",
   "id": "9605885f",
   "metadata": {},
   "source": [
    "### Utilizamos los modelos entrenados para Clasificar las observaciones de los Clusters"
   ]
  },
  {
   "cell_type": "markdown",
   "id": "e8fe5f39",
   "metadata": {},
   "source": [
    "# KNN"
   ]
  },
  {
   "cell_type": "markdown",
   "id": "c332e822",
   "metadata": {},
   "source": [
    "##### - Cluster 0"
   ]
  },
  {
   "cell_type": "code",
   "execution_count": 40,
   "id": "a7721478",
   "metadata": {},
   "outputs": [
    {
     "data": {
      "text/html": [
       "<div>\n",
       "<style scoped>\n",
       "    .dataframe tbody tr th:only-of-type {\n",
       "        vertical-align: middle;\n",
       "    }\n",
       "\n",
       "    .dataframe tbody tr th {\n",
       "        vertical-align: top;\n",
       "    }\n",
       "\n",
       "    .dataframe thead th {\n",
       "        text-align: right;\n",
       "    }\n",
       "</style>\n",
       "<table border=\"1\" class=\"dataframe\">\n",
       "  <thead>\n",
       "    <tr style=\"text-align: right;\">\n",
       "      <th></th>\n",
       "      <th>Unnamed: 0</th>\n",
       "      <th>index</th>\n",
       "      <th>hash</th>\n",
       "      <th>pais</th>\n",
       "      <th>fs_size</th>\n",
       "      <th>raw_size</th>\n",
       "      <th>file_extension</th>\n",
       "      <th>cantidad_procesos</th>\n",
       "      <th>cantidad_procesos_red</th>\n",
       "      <th>cantidad_objetos</th>\n",
       "      <th>cantidad_DLLs</th>\n",
       "      <th>cantidad_acciones_registros</th>\n",
       "      <th>ATTEMPT_TO_COPY_ITSELF</th>\n",
       "      <th>ATTEMPT_TO_EXECUTE_AFTER_RENAME</th>\n",
       "      <th>VBA_ATTEMPT_TO_CALL_API</th>\n",
       "      <th>IMAGE_HAS_SHARED_MEMORY_SECTION</th>\n",
       "      <th>HEUR_APPLICATION_CONTAINS_RUNTIME_DATA</th>\n",
       "      <th>INTERNAL_HAS_JAVA_CLASS_EXTRACT</th>\n",
       "    </tr>\n",
       "  </thead>\n",
       "  <tbody>\n",
       "    <tr>\n",
       "      <th>0</th>\n",
       "      <td>0</td>\n",
       "      <td>0</td>\n",
       "      <td>00b3fc215d496940e0353a0f39d1c60a90cd93b5</td>\n",
       "      <td>Argentina</td>\n",
       "      <td>1379555</td>\n",
       "      <td>0</td>\n",
       "      <td>exe</td>\n",
       "      <td>2</td>\n",
       "      <td>0</td>\n",
       "      <td>6</td>\n",
       "      <td>56</td>\n",
       "      <td>0</td>\n",
       "      <td>4</td>\n",
       "      <td>7</td>\n",
       "      <td>7</td>\n",
       "      <td>1</td>\n",
       "      <td>595</td>\n",
       "      <td>0</td>\n",
       "    </tr>\n",
       "    <tr>\n",
       "      <th>1</th>\n",
       "      <td>1</td>\n",
       "      <td>1</td>\n",
       "      <td>00d77473c837e0ed2887d6285a6c3c9e47ec83c8</td>\n",
       "      <td>Argentina</td>\n",
       "      <td>8371415</td>\n",
       "      <td>769024</td>\n",
       "      <td>exe</td>\n",
       "      <td>11</td>\n",
       "      <td>2</td>\n",
       "      <td>37</td>\n",
       "      <td>327</td>\n",
       "      <td>7</td>\n",
       "      <td>0</td>\n",
       "      <td>5</td>\n",
       "      <td>6</td>\n",
       "      <td>0</td>\n",
       "      <td>437</td>\n",
       "      <td>7</td>\n",
       "    </tr>\n",
       "    <tr>\n",
       "      <th>2</th>\n",
       "      <td>2</td>\n",
       "      <td>2</td>\n",
       "      <td>01daeb46e4be37bca355010139759f29b45685e6</td>\n",
       "      <td>Argentina</td>\n",
       "      <td>335884</td>\n",
       "      <td>0</td>\n",
       "      <td>dll-msil</td>\n",
       "      <td>1</td>\n",
       "      <td>0</td>\n",
       "      <td>0</td>\n",
       "      <td>1</td>\n",
       "      <td>0</td>\n",
       "      <td>8</td>\n",
       "      <td>8</td>\n",
       "      <td>5</td>\n",
       "      <td>2</td>\n",
       "      <td>600</td>\n",
       "      <td>3</td>\n",
       "    </tr>\n",
       "    <tr>\n",
       "      <th>3</th>\n",
       "      <td>3</td>\n",
       "      <td>3</td>\n",
       "      <td>02aff536c18147e447bf45bdb4657f209254b843</td>\n",
       "      <td>Argentina</td>\n",
       "      <td>294924</td>\n",
       "      <td>0</td>\n",
       "      <td>dll-msil</td>\n",
       "      <td>1</td>\n",
       "      <td>0</td>\n",
       "      <td>0</td>\n",
       "      <td>1</td>\n",
       "      <td>0</td>\n",
       "      <td>6</td>\n",
       "      <td>5</td>\n",
       "      <td>2</td>\n",
       "      <td>2</td>\n",
       "      <td>0</td>\n",
       "      <td>0</td>\n",
       "    </tr>\n",
       "    <tr>\n",
       "      <th>4</th>\n",
       "      <td>4</td>\n",
       "      <td>4</td>\n",
       "      <td>0350b28fa113b4adf4abca0e64ace0d74ff36d4d</td>\n",
       "      <td>Argentina</td>\n",
       "      <td>3717930</td>\n",
       "      <td>0</td>\n",
       "      <td>exe</td>\n",
       "      <td>5</td>\n",
       "      <td>0</td>\n",
       "      <td>15</td>\n",
       "      <td>161</td>\n",
       "      <td>46</td>\n",
       "      <td>0</td>\n",
       "      <td>7</td>\n",
       "      <td>6</td>\n",
       "      <td>0</td>\n",
       "      <td>471</td>\n",
       "      <td>0</td>\n",
       "    </tr>\n",
       "  </tbody>\n",
       "</table>\n",
       "</div>"
      ],
      "text/plain": [
       "   Unnamed: 0  index                                      hash       pais  \\\n",
       "0           0      0  00b3fc215d496940e0353a0f39d1c60a90cd93b5  Argentina   \n",
       "1           1      1  00d77473c837e0ed2887d6285a6c3c9e47ec83c8  Argentina   \n",
       "2           2      2  01daeb46e4be37bca355010139759f29b45685e6  Argentina   \n",
       "3           3      3  02aff536c18147e447bf45bdb4657f209254b843  Argentina   \n",
       "4           4      4  0350b28fa113b4adf4abca0e64ace0d74ff36d4d  Argentina   \n",
       "\n",
       "   fs_size  raw_size file_extension  cantidad_procesos  cantidad_procesos_red  \\\n",
       "0  1379555         0            exe                  2                      0   \n",
       "1  8371415    769024            exe                 11                      2   \n",
       "2   335884         0       dll-msil                  1                      0   \n",
       "3   294924         0       dll-msil                  1                      0   \n",
       "4  3717930         0            exe                  5                      0   \n",
       "\n",
       "   cantidad_objetos  cantidad_DLLs  cantidad_acciones_registros  \\\n",
       "0                 6             56                            0   \n",
       "1                37            327                            7   \n",
       "2                 0              1                            0   \n",
       "3                 0              1                            0   \n",
       "4                15            161                           46   \n",
       "\n",
       "   ATTEMPT_TO_COPY_ITSELF  ATTEMPT_TO_EXECUTE_AFTER_RENAME  \\\n",
       "0                       4                                7   \n",
       "1                       0                                5   \n",
       "2                       8                                8   \n",
       "3                       6                                5   \n",
       "4                       0                                7   \n",
       "\n",
       "   VBA_ATTEMPT_TO_CALL_API  IMAGE_HAS_SHARED_MEMORY_SECTION  \\\n",
       "0                        7                                1   \n",
       "1                        6                                0   \n",
       "2                        5                                2   \n",
       "3                        2                                2   \n",
       "4                        6                                0   \n",
       "\n",
       "   HEUR_APPLICATION_CONTAINS_RUNTIME_DATA  INTERNAL_HAS_JAVA_CLASS_EXTRACT  \n",
       "0                                     595                                0  \n",
       "1                                     437                                7  \n",
       "2                                     600                                3  \n",
       "3                                       0                                0  \n",
       "4                                     471                                0  "
      ]
     },
     "execution_count": 40,
     "metadata": {},
     "output_type": "execute_result"
    }
   ],
   "source": [
    "cluster_0 = pd.read_csv('./Data/cluster_0.csv')\n",
    "cluster_0.head()"
   ]
  },
  {
   "cell_type": "code",
   "execution_count": 41,
   "id": "8fb6fced",
   "metadata": {
    "scrolled": true
   },
   "outputs": [
    {
     "data": {
      "text/html": [
       "<div>\n",
       "<style scoped>\n",
       "    .dataframe tbody tr th:only-of-type {\n",
       "        vertical-align: middle;\n",
       "    }\n",
       "\n",
       "    .dataframe tbody tr th {\n",
       "        vertical-align: top;\n",
       "    }\n",
       "\n",
       "    .dataframe thead th {\n",
       "        text-align: right;\n",
       "    }\n",
       "</style>\n",
       "<table border=\"1\" class=\"dataframe\">\n",
       "  <thead>\n",
       "    <tr style=\"text-align: right;\">\n",
       "      <th></th>\n",
       "      <th>fs_size</th>\n",
       "      <th>raw_size</th>\n",
       "      <th>cantidad_procesos</th>\n",
       "      <th>cantidad_procesos_red</th>\n",
       "      <th>cantidad_objetos</th>\n",
       "      <th>cantidad_DLLs</th>\n",
       "      <th>cantidad_acciones_registros</th>\n",
       "      <th>ATTEMPT_TO_COPY_ITSELF</th>\n",
       "      <th>ATTEMPT_TO_EXECUTE_AFTER_RENAME</th>\n",
       "      <th>VBA_ATTEMPT_TO_CALL_API</th>\n",
       "      <th>IMAGE_HAS_SHARED_MEMORY_SECTION</th>\n",
       "      <th>HEUR_APPLICATION_CONTAINS_RUNTIME_DATA</th>\n",
       "      <th>INTERNAL_HAS_JAVA_CLASS_EXTRACT</th>\n",
       "    </tr>\n",
       "  </thead>\n",
       "  <tbody>\n",
       "    <tr>\n",
       "      <th>0</th>\n",
       "      <td>1379555</td>\n",
       "      <td>0</td>\n",
       "      <td>2</td>\n",
       "      <td>0</td>\n",
       "      <td>6</td>\n",
       "      <td>56</td>\n",
       "      <td>0</td>\n",
       "      <td>4</td>\n",
       "      <td>7</td>\n",
       "      <td>7</td>\n",
       "      <td>1</td>\n",
       "      <td>595</td>\n",
       "      <td>0</td>\n",
       "    </tr>\n",
       "    <tr>\n",
       "      <th>1</th>\n",
       "      <td>8371415</td>\n",
       "      <td>769024</td>\n",
       "      <td>11</td>\n",
       "      <td>2</td>\n",
       "      <td>37</td>\n",
       "      <td>327</td>\n",
       "      <td>7</td>\n",
       "      <td>0</td>\n",
       "      <td>5</td>\n",
       "      <td>6</td>\n",
       "      <td>0</td>\n",
       "      <td>437</td>\n",
       "      <td>7</td>\n",
       "    </tr>\n",
       "    <tr>\n",
       "      <th>2</th>\n",
       "      <td>335884</td>\n",
       "      <td>0</td>\n",
       "      <td>1</td>\n",
       "      <td>0</td>\n",
       "      <td>0</td>\n",
       "      <td>1</td>\n",
       "      <td>0</td>\n",
       "      <td>8</td>\n",
       "      <td>8</td>\n",
       "      <td>5</td>\n",
       "      <td>2</td>\n",
       "      <td>600</td>\n",
       "      <td>3</td>\n",
       "    </tr>\n",
       "    <tr>\n",
       "      <th>3</th>\n",
       "      <td>294924</td>\n",
       "      <td>0</td>\n",
       "      <td>1</td>\n",
       "      <td>0</td>\n",
       "      <td>0</td>\n",
       "      <td>1</td>\n",
       "      <td>0</td>\n",
       "      <td>6</td>\n",
       "      <td>5</td>\n",
       "      <td>2</td>\n",
       "      <td>2</td>\n",
       "      <td>0</td>\n",
       "      <td>0</td>\n",
       "    </tr>\n",
       "    <tr>\n",
       "      <th>4</th>\n",
       "      <td>3717930</td>\n",
       "      <td>0</td>\n",
       "      <td>5</td>\n",
       "      <td>0</td>\n",
       "      <td>15</td>\n",
       "      <td>161</td>\n",
       "      <td>46</td>\n",
       "      <td>0</td>\n",
       "      <td>7</td>\n",
       "      <td>6</td>\n",
       "      <td>0</td>\n",
       "      <td>471</td>\n",
       "      <td>0</td>\n",
       "    </tr>\n",
       "  </tbody>\n",
       "</table>\n",
       "</div>"
      ],
      "text/plain": [
       "   fs_size  raw_size  cantidad_procesos  cantidad_procesos_red  \\\n",
       "0  1379555         0                  2                      0   \n",
       "1  8371415    769024                 11                      2   \n",
       "2   335884         0                  1                      0   \n",
       "3   294924         0                  1                      0   \n",
       "4  3717930         0                  5                      0   \n",
       "\n",
       "   cantidad_objetos  cantidad_DLLs  cantidad_acciones_registros  \\\n",
       "0                 6             56                            0   \n",
       "1                37            327                            7   \n",
       "2                 0              1                            0   \n",
       "3                 0              1                            0   \n",
       "4                15            161                           46   \n",
       "\n",
       "   ATTEMPT_TO_COPY_ITSELF  ATTEMPT_TO_EXECUTE_AFTER_RENAME  \\\n",
       "0                       4                                7   \n",
       "1                       0                                5   \n",
       "2                       8                                8   \n",
       "3                       6                                5   \n",
       "4                       0                                7   \n",
       "\n",
       "   VBA_ATTEMPT_TO_CALL_API  IMAGE_HAS_SHARED_MEMORY_SECTION  \\\n",
       "0                        7                                1   \n",
       "1                        6                                0   \n",
       "2                        5                                2   \n",
       "3                        2                                2   \n",
       "4                        6                                0   \n",
       "\n",
       "   HEUR_APPLICATION_CONTAINS_RUNTIME_DATA  INTERNAL_HAS_JAVA_CLASS_EXTRACT  \n",
       "0                                     595                                0  \n",
       "1                                     437                                7  \n",
       "2                                     600                                3  \n",
       "3                                       0                                0  \n",
       "4                                     471                                0  "
      ]
     },
     "execution_count": 41,
     "metadata": {},
     "output_type": "execute_result"
    }
   ],
   "source": [
    "X0 = cluster_0.drop(['Unnamed: 0', 'index','hash', 'pais', 'file_extension'],axis=1)\n",
    "X0.head()"
   ]
  },
  {
   "cell_type": "code",
   "execution_count": 42,
   "id": "d7d776c9",
   "metadata": {},
   "outputs": [
    {
     "data": {
      "text/plain": [
       "array([ True,  True,  True,  True,  True,  True,  True,  True,  True,\n",
       "        True,  True,  True,  True])"
      ]
     },
     "execution_count": 42,
     "metadata": {},
     "output_type": "execute_result"
    }
   ],
   "source": [
    "df_numericals.columns == X0.columns"
   ]
  },
  {
   "cell_type": "code",
   "execution_count": 43,
   "id": "71d70c6f",
   "metadata": {},
   "outputs": [],
   "source": [
    "knn_cluster_0 = pd.Series(knn.predict(X0))"
   ]
  },
  {
   "cell_type": "code",
   "execution_count": 44,
   "id": "9f5e27ab",
   "metadata": {},
   "outputs": [
    {
     "data": {
      "text/plain": [
       "3    0.957834\n",
       "1    0.042166\n",
       "dtype: float64"
      ]
     },
     "execution_count": 44,
     "metadata": {},
     "output_type": "execute_result"
    }
   ],
   "source": [
    "knn_cluster_0.value_counts(normalize=True)"
   ]
  },
  {
   "cell_type": "markdown",
   "id": "f659ac20",
   "metadata": {},
   "source": [
    "##### - Cluster 1"
   ]
  },
  {
   "cell_type": "code",
   "execution_count": 45,
   "id": "c58661cb",
   "metadata": {},
   "outputs": [
    {
     "data": {
      "text/html": [
       "<div>\n",
       "<style scoped>\n",
       "    .dataframe tbody tr th:only-of-type {\n",
       "        vertical-align: middle;\n",
       "    }\n",
       "\n",
       "    .dataframe tbody tr th {\n",
       "        vertical-align: top;\n",
       "    }\n",
       "\n",
       "    .dataframe thead th {\n",
       "        text-align: right;\n",
       "    }\n",
       "</style>\n",
       "<table border=\"1\" class=\"dataframe\">\n",
       "  <thead>\n",
       "    <tr style=\"text-align: right;\">\n",
       "      <th></th>\n",
       "      <th>Unnamed: 0</th>\n",
       "      <th>index</th>\n",
       "      <th>hash</th>\n",
       "      <th>pais</th>\n",
       "      <th>fs_size</th>\n",
       "      <th>raw_size</th>\n",
       "      <th>file_extension</th>\n",
       "      <th>cantidad_procesos</th>\n",
       "      <th>cantidad_procesos_red</th>\n",
       "      <th>cantidad_objetos</th>\n",
       "      <th>cantidad_DLLs</th>\n",
       "      <th>cantidad_acciones_registros</th>\n",
       "      <th>ATTEMPT_TO_COPY_ITSELF</th>\n",
       "      <th>ATTEMPT_TO_EXECUTE_AFTER_RENAME</th>\n",
       "      <th>VBA_ATTEMPT_TO_CALL_API</th>\n",
       "      <th>IMAGE_HAS_SHARED_MEMORY_SECTION</th>\n",
       "      <th>HEUR_APPLICATION_CONTAINS_RUNTIME_DATA</th>\n",
       "      <th>INTERNAL_HAS_JAVA_CLASS_EXTRACT</th>\n",
       "    </tr>\n",
       "  </thead>\n",
       "  <tbody>\n",
       "    <tr>\n",
       "      <th>0</th>\n",
       "      <td>0</td>\n",
       "      <td>5</td>\n",
       "      <td>03bbdba675294902cb65f6725a35ae2f84de4933</td>\n",
       "      <td>Argentina</td>\n",
       "      <td>60054931</td>\n",
       "      <td>18800384</td>\n",
       "      <td>exe</td>\n",
       "      <td>13</td>\n",
       "      <td>13</td>\n",
       "      <td>24</td>\n",
       "      <td>452</td>\n",
       "      <td>131</td>\n",
       "      <td>7</td>\n",
       "      <td>2</td>\n",
       "      <td>3</td>\n",
       "      <td>6</td>\n",
       "      <td>0</td>\n",
       "      <td>5</td>\n",
       "    </tr>\n",
       "    <tr>\n",
       "      <th>1</th>\n",
       "      <td>1</td>\n",
       "      <td>6</td>\n",
       "      <td>03bd40f9acf106b9f76b782697583d3109568724</td>\n",
       "      <td>Argentina</td>\n",
       "      <td>132339067</td>\n",
       "      <td>0</td>\n",
       "      <td>jar</td>\n",
       "      <td>75</td>\n",
       "      <td>8</td>\n",
       "      <td>120</td>\n",
       "      <td>2397</td>\n",
       "      <td>52</td>\n",
       "      <td>0</td>\n",
       "      <td>1</td>\n",
       "      <td>0</td>\n",
       "      <td>3</td>\n",
       "      <td>588</td>\n",
       "      <td>0</td>\n",
       "    </tr>\n",
       "    <tr>\n",
       "      <th>2</th>\n",
       "      <td>2</td>\n",
       "      <td>12</td>\n",
       "      <td>09e847bf5ca90043ca544e01b900ec2ce3799a8b</td>\n",
       "      <td>Argentina</td>\n",
       "      <td>60137875</td>\n",
       "      <td>18808064</td>\n",
       "      <td>exe</td>\n",
       "      <td>13</td>\n",
       "      <td>22</td>\n",
       "      <td>28</td>\n",
       "      <td>483</td>\n",
       "      <td>131</td>\n",
       "      <td>6</td>\n",
       "      <td>4</td>\n",
       "      <td>5</td>\n",
       "      <td>1</td>\n",
       "      <td>0</td>\n",
       "      <td>5</td>\n",
       "    </tr>\n",
       "    <tr>\n",
       "      <th>3</th>\n",
       "      <td>3</td>\n",
       "      <td>13</td>\n",
       "      <td>0a6f7d3135755e9dd24196dce9de784a8b75eb58</td>\n",
       "      <td>Argentina</td>\n",
       "      <td>53751191</td>\n",
       "      <td>16141568</td>\n",
       "      <td>exe</td>\n",
       "      <td>13</td>\n",
       "      <td>13</td>\n",
       "      <td>24</td>\n",
       "      <td>446</td>\n",
       "      <td>131</td>\n",
       "      <td>5</td>\n",
       "      <td>3</td>\n",
       "      <td>0</td>\n",
       "      <td>7</td>\n",
       "      <td>0</td>\n",
       "      <td>6</td>\n",
       "    </tr>\n",
       "    <tr>\n",
       "      <th>4</th>\n",
       "      <td>4</td>\n",
       "      <td>15</td>\n",
       "      <td>0aaafece1734996b96674136dfaf8e878cc114dd</td>\n",
       "      <td>Argentina</td>\n",
       "      <td>60826007</td>\n",
       "      <td>18979072</td>\n",
       "      <td>exe</td>\n",
       "      <td>13</td>\n",
       "      <td>14</td>\n",
       "      <td>26</td>\n",
       "      <td>466</td>\n",
       "      <td>130</td>\n",
       "      <td>3</td>\n",
       "      <td>4</td>\n",
       "      <td>6</td>\n",
       "      <td>7</td>\n",
       "      <td>0</td>\n",
       "      <td>0</td>\n",
       "    </tr>\n",
       "  </tbody>\n",
       "</table>\n",
       "</div>"
      ],
      "text/plain": [
       "   Unnamed: 0  index                                      hash       pais  \\\n",
       "0           0      5  03bbdba675294902cb65f6725a35ae2f84de4933  Argentina   \n",
       "1           1      6  03bd40f9acf106b9f76b782697583d3109568724  Argentina   \n",
       "2           2     12  09e847bf5ca90043ca544e01b900ec2ce3799a8b  Argentina   \n",
       "3           3     13  0a6f7d3135755e9dd24196dce9de784a8b75eb58  Argentina   \n",
       "4           4     15  0aaafece1734996b96674136dfaf8e878cc114dd  Argentina   \n",
       "\n",
       "     fs_size  raw_size file_extension  cantidad_procesos  \\\n",
       "0   60054931  18800384            exe                 13   \n",
       "1  132339067         0            jar                 75   \n",
       "2   60137875  18808064            exe                 13   \n",
       "3   53751191  16141568            exe                 13   \n",
       "4   60826007  18979072            exe                 13   \n",
       "\n",
       "   cantidad_procesos_red  cantidad_objetos  cantidad_DLLs  \\\n",
       "0                     13                24            452   \n",
       "1                      8               120           2397   \n",
       "2                     22                28            483   \n",
       "3                     13                24            446   \n",
       "4                     14                26            466   \n",
       "\n",
       "   cantidad_acciones_registros  ATTEMPT_TO_COPY_ITSELF  \\\n",
       "0                          131                       7   \n",
       "1                           52                       0   \n",
       "2                          131                       6   \n",
       "3                          131                       5   \n",
       "4                          130                       3   \n",
       "\n",
       "   ATTEMPT_TO_EXECUTE_AFTER_RENAME  VBA_ATTEMPT_TO_CALL_API  \\\n",
       "0                                2                        3   \n",
       "1                                1                        0   \n",
       "2                                4                        5   \n",
       "3                                3                        0   \n",
       "4                                4                        6   \n",
       "\n",
       "   IMAGE_HAS_SHARED_MEMORY_SECTION  HEUR_APPLICATION_CONTAINS_RUNTIME_DATA  \\\n",
       "0                                6                                       0   \n",
       "1                                3                                     588   \n",
       "2                                1                                       0   \n",
       "3                                7                                       0   \n",
       "4                                7                                       0   \n",
       "\n",
       "   INTERNAL_HAS_JAVA_CLASS_EXTRACT  \n",
       "0                                5  \n",
       "1                                0  \n",
       "2                                5  \n",
       "3                                6  \n",
       "4                                0  "
      ]
     },
     "execution_count": 45,
     "metadata": {},
     "output_type": "execute_result"
    }
   ],
   "source": [
    "cluster_1 = pd.read_csv('./Data/cluster_1.csv')\n",
    "cluster_1.head()"
   ]
  },
  {
   "cell_type": "code",
   "execution_count": 46,
   "id": "7ed2565c",
   "metadata": {},
   "outputs": [
    {
     "data": {
      "text/html": [
       "<div>\n",
       "<style scoped>\n",
       "    .dataframe tbody tr th:only-of-type {\n",
       "        vertical-align: middle;\n",
       "    }\n",
       "\n",
       "    .dataframe tbody tr th {\n",
       "        vertical-align: top;\n",
       "    }\n",
       "\n",
       "    .dataframe thead th {\n",
       "        text-align: right;\n",
       "    }\n",
       "</style>\n",
       "<table border=\"1\" class=\"dataframe\">\n",
       "  <thead>\n",
       "    <tr style=\"text-align: right;\">\n",
       "      <th></th>\n",
       "      <th>fs_size</th>\n",
       "      <th>raw_size</th>\n",
       "      <th>cantidad_procesos</th>\n",
       "      <th>cantidad_procesos_red</th>\n",
       "      <th>cantidad_objetos</th>\n",
       "      <th>cantidad_DLLs</th>\n",
       "      <th>cantidad_acciones_registros</th>\n",
       "      <th>ATTEMPT_TO_COPY_ITSELF</th>\n",
       "      <th>ATTEMPT_TO_EXECUTE_AFTER_RENAME</th>\n",
       "      <th>VBA_ATTEMPT_TO_CALL_API</th>\n",
       "      <th>IMAGE_HAS_SHARED_MEMORY_SECTION</th>\n",
       "      <th>HEUR_APPLICATION_CONTAINS_RUNTIME_DATA</th>\n",
       "      <th>INTERNAL_HAS_JAVA_CLASS_EXTRACT</th>\n",
       "    </tr>\n",
       "  </thead>\n",
       "  <tbody>\n",
       "    <tr>\n",
       "      <th>0</th>\n",
       "      <td>60054931</td>\n",
       "      <td>18800384</td>\n",
       "      <td>13</td>\n",
       "      <td>13</td>\n",
       "      <td>24</td>\n",
       "      <td>452</td>\n",
       "      <td>131</td>\n",
       "      <td>7</td>\n",
       "      <td>2</td>\n",
       "      <td>3</td>\n",
       "      <td>6</td>\n",
       "      <td>0</td>\n",
       "      <td>5</td>\n",
       "    </tr>\n",
       "    <tr>\n",
       "      <th>1</th>\n",
       "      <td>132339067</td>\n",
       "      <td>0</td>\n",
       "      <td>75</td>\n",
       "      <td>8</td>\n",
       "      <td>120</td>\n",
       "      <td>2397</td>\n",
       "      <td>52</td>\n",
       "      <td>0</td>\n",
       "      <td>1</td>\n",
       "      <td>0</td>\n",
       "      <td>3</td>\n",
       "      <td>588</td>\n",
       "      <td>0</td>\n",
       "    </tr>\n",
       "    <tr>\n",
       "      <th>2</th>\n",
       "      <td>60137875</td>\n",
       "      <td>18808064</td>\n",
       "      <td>13</td>\n",
       "      <td>22</td>\n",
       "      <td>28</td>\n",
       "      <td>483</td>\n",
       "      <td>131</td>\n",
       "      <td>6</td>\n",
       "      <td>4</td>\n",
       "      <td>5</td>\n",
       "      <td>1</td>\n",
       "      <td>0</td>\n",
       "      <td>5</td>\n",
       "    </tr>\n",
       "    <tr>\n",
       "      <th>3</th>\n",
       "      <td>53751191</td>\n",
       "      <td>16141568</td>\n",
       "      <td>13</td>\n",
       "      <td>13</td>\n",
       "      <td>24</td>\n",
       "      <td>446</td>\n",
       "      <td>131</td>\n",
       "      <td>5</td>\n",
       "      <td>3</td>\n",
       "      <td>0</td>\n",
       "      <td>7</td>\n",
       "      <td>0</td>\n",
       "      <td>6</td>\n",
       "    </tr>\n",
       "    <tr>\n",
       "      <th>4</th>\n",
       "      <td>60826007</td>\n",
       "      <td>18979072</td>\n",
       "      <td>13</td>\n",
       "      <td>14</td>\n",
       "      <td>26</td>\n",
       "      <td>466</td>\n",
       "      <td>130</td>\n",
       "      <td>3</td>\n",
       "      <td>4</td>\n",
       "      <td>6</td>\n",
       "      <td>7</td>\n",
       "      <td>0</td>\n",
       "      <td>0</td>\n",
       "    </tr>\n",
       "  </tbody>\n",
       "</table>\n",
       "</div>"
      ],
      "text/plain": [
       "     fs_size  raw_size  cantidad_procesos  cantidad_procesos_red  \\\n",
       "0   60054931  18800384                 13                     13   \n",
       "1  132339067         0                 75                      8   \n",
       "2   60137875  18808064                 13                     22   \n",
       "3   53751191  16141568                 13                     13   \n",
       "4   60826007  18979072                 13                     14   \n",
       "\n",
       "   cantidad_objetos  cantidad_DLLs  cantidad_acciones_registros  \\\n",
       "0                24            452                          131   \n",
       "1               120           2397                           52   \n",
       "2                28            483                          131   \n",
       "3                24            446                          131   \n",
       "4                26            466                          130   \n",
       "\n",
       "   ATTEMPT_TO_COPY_ITSELF  ATTEMPT_TO_EXECUTE_AFTER_RENAME  \\\n",
       "0                       7                                2   \n",
       "1                       0                                1   \n",
       "2                       6                                4   \n",
       "3                       5                                3   \n",
       "4                       3                                4   \n",
       "\n",
       "   VBA_ATTEMPT_TO_CALL_API  IMAGE_HAS_SHARED_MEMORY_SECTION  \\\n",
       "0                        3                                6   \n",
       "1                        0                                3   \n",
       "2                        5                                1   \n",
       "3                        0                                7   \n",
       "4                        6                                7   \n",
       "\n",
       "   HEUR_APPLICATION_CONTAINS_RUNTIME_DATA  INTERNAL_HAS_JAVA_CLASS_EXTRACT  \n",
       "0                                       0                                5  \n",
       "1                                     588                                0  \n",
       "2                                       0                                5  \n",
       "3                                       0                                6  \n",
       "4                                       0                                0  "
      ]
     },
     "execution_count": 46,
     "metadata": {},
     "output_type": "execute_result"
    }
   ],
   "source": [
    "X1 = cluster_1.drop(['Unnamed: 0', 'index','hash', 'pais', 'file_extension'],axis=1)\n",
    "X1.head()"
   ]
  },
  {
   "cell_type": "code",
   "execution_count": 47,
   "id": "e848f6c2",
   "metadata": {},
   "outputs": [],
   "source": [
    "knn_cluster_1 = pd.Series(knn.predict(X1))"
   ]
  },
  {
   "cell_type": "code",
   "execution_count": 48,
   "id": "71b8a37f",
   "metadata": {},
   "outputs": [
    {
     "data": {
      "text/plain": [
       "1    0.65625\n",
       "3    0.34375\n",
       "dtype: float64"
      ]
     },
     "execution_count": 48,
     "metadata": {},
     "output_type": "execute_result"
    }
   ],
   "source": [
    "knn_cluster_1.value_counts(normalize=True)"
   ]
  },
  {
   "cell_type": "markdown",
   "id": "5da9aea7",
   "metadata": {},
   "source": [
    "##### - Cluster 2"
   ]
  },
  {
   "cell_type": "code",
   "execution_count": 49,
   "id": "8f0c25f3",
   "metadata": {},
   "outputs": [
    {
     "data": {
      "text/html": [
       "<div>\n",
       "<style scoped>\n",
       "    .dataframe tbody tr th:only-of-type {\n",
       "        vertical-align: middle;\n",
       "    }\n",
       "\n",
       "    .dataframe tbody tr th {\n",
       "        vertical-align: top;\n",
       "    }\n",
       "\n",
       "    .dataframe thead th {\n",
       "        text-align: right;\n",
       "    }\n",
       "</style>\n",
       "<table border=\"1\" class=\"dataframe\">\n",
       "  <thead>\n",
       "    <tr style=\"text-align: right;\">\n",
       "      <th></th>\n",
       "      <th>Unnamed: 0</th>\n",
       "      <th>index</th>\n",
       "      <th>hash</th>\n",
       "      <th>pais</th>\n",
       "      <th>fs_size</th>\n",
       "      <th>raw_size</th>\n",
       "      <th>file_extension</th>\n",
       "      <th>cantidad_procesos</th>\n",
       "      <th>cantidad_procesos_red</th>\n",
       "      <th>cantidad_objetos</th>\n",
       "      <th>cantidad_DLLs</th>\n",
       "      <th>cantidad_acciones_registros</th>\n",
       "      <th>ATTEMPT_TO_COPY_ITSELF</th>\n",
       "      <th>ATTEMPT_TO_EXECUTE_AFTER_RENAME</th>\n",
       "      <th>VBA_ATTEMPT_TO_CALL_API</th>\n",
       "      <th>IMAGE_HAS_SHARED_MEMORY_SECTION</th>\n",
       "      <th>HEUR_APPLICATION_CONTAINS_RUNTIME_DATA</th>\n",
       "      <th>INTERNAL_HAS_JAVA_CLASS_EXTRACT</th>\n",
       "    </tr>\n",
       "  </thead>\n",
       "  <tbody>\n",
       "  </tbody>\n",
       "</table>\n",
       "</div>"
      ],
      "text/plain": [
       "Empty DataFrame\n",
       "Columns: [Unnamed: 0, index, hash, pais, fs_size, raw_size, file_extension, cantidad_procesos, cantidad_procesos_red, cantidad_objetos, cantidad_DLLs, cantidad_acciones_registros, ATTEMPT_TO_COPY_ITSELF, ATTEMPT_TO_EXECUTE_AFTER_RENAME, VBA_ATTEMPT_TO_CALL_API, IMAGE_HAS_SHARED_MEMORY_SECTION, HEUR_APPLICATION_CONTAINS_RUNTIME_DATA, INTERNAL_HAS_JAVA_CLASS_EXTRACT]\n",
       "Index: []"
      ]
     },
     "execution_count": 49,
     "metadata": {},
     "output_type": "execute_result"
    }
   ],
   "source": [
    "cluster_2 = pd.read_csv('./Data/cluster_2.csv')\n",
    "cluster_2.head()"
   ]
  },
  {
   "cell_type": "code",
   "execution_count": 50,
   "id": "6d8176e2",
   "metadata": {},
   "outputs": [
    {
     "data": {
      "text/html": [
       "<div>\n",
       "<style scoped>\n",
       "    .dataframe tbody tr th:only-of-type {\n",
       "        vertical-align: middle;\n",
       "    }\n",
       "\n",
       "    .dataframe tbody tr th {\n",
       "        vertical-align: top;\n",
       "    }\n",
       "\n",
       "    .dataframe thead th {\n",
       "        text-align: right;\n",
       "    }\n",
       "</style>\n",
       "<table border=\"1\" class=\"dataframe\">\n",
       "  <thead>\n",
       "    <tr style=\"text-align: right;\">\n",
       "      <th></th>\n",
       "      <th>fs_size</th>\n",
       "      <th>raw_size</th>\n",
       "      <th>cantidad_procesos</th>\n",
       "      <th>cantidad_procesos_red</th>\n",
       "      <th>cantidad_objetos</th>\n",
       "      <th>cantidad_DLLs</th>\n",
       "      <th>cantidad_acciones_registros</th>\n",
       "      <th>ATTEMPT_TO_COPY_ITSELF</th>\n",
       "      <th>ATTEMPT_TO_EXECUTE_AFTER_RENAME</th>\n",
       "      <th>VBA_ATTEMPT_TO_CALL_API</th>\n",
       "      <th>IMAGE_HAS_SHARED_MEMORY_SECTION</th>\n",
       "      <th>HEUR_APPLICATION_CONTAINS_RUNTIME_DATA</th>\n",
       "      <th>INTERNAL_HAS_JAVA_CLASS_EXTRACT</th>\n",
       "    </tr>\n",
       "  </thead>\n",
       "  <tbody>\n",
       "  </tbody>\n",
       "</table>\n",
       "</div>"
      ],
      "text/plain": [
       "Empty DataFrame\n",
       "Columns: [fs_size, raw_size, cantidad_procesos, cantidad_procesos_red, cantidad_objetos, cantidad_DLLs, cantidad_acciones_registros, ATTEMPT_TO_COPY_ITSELF, ATTEMPT_TO_EXECUTE_AFTER_RENAME, VBA_ATTEMPT_TO_CALL_API, IMAGE_HAS_SHARED_MEMORY_SECTION, HEUR_APPLICATION_CONTAINS_RUNTIME_DATA, INTERNAL_HAS_JAVA_CLASS_EXTRACT]\n",
       "Index: []"
      ]
     },
     "execution_count": 50,
     "metadata": {},
     "output_type": "execute_result"
    }
   ],
   "source": [
    "X2 = cluster_2.drop(['Unnamed: 0', 'index','hash', 'pais', 'file_extension'],axis=1)\n",
    "X2.head()"
   ]
  },
  {
   "cell_type": "code",
   "execution_count": 51,
   "id": "bb4cbacf",
   "metadata": {},
   "outputs": [
    {
     "ename": "ValueError",
     "evalue": "Found array with 0 sample(s) (shape=(0, 13)) while a minimum of 1 is required.",
     "output_type": "error",
     "traceback": [
      "\u001b[1;31m---------------------------------------------------------------------------\u001b[0m",
      "\u001b[1;31mValueError\u001b[0m                                Traceback (most recent call last)",
      "\u001b[1;32m<ipython-input-51-c6211dccc425>\u001b[0m in \u001b[0;36m<module>\u001b[1;34m\u001b[0m\n\u001b[1;32m----> 1\u001b[1;33m \u001b[0mknn_cluster_2\u001b[0m \u001b[1;33m=\u001b[0m \u001b[0mpd\u001b[0m\u001b[1;33m.\u001b[0m\u001b[0mSeries\u001b[0m\u001b[1;33m(\u001b[0m\u001b[0mknn\u001b[0m\u001b[1;33m.\u001b[0m\u001b[0mpredict\u001b[0m\u001b[1;33m(\u001b[0m\u001b[0mX2\u001b[0m\u001b[1;33m)\u001b[0m\u001b[1;33m)\u001b[0m\u001b[1;33m\u001b[0m\u001b[1;33m\u001b[0m\u001b[0m\n\u001b[0m",
      "\u001b[1;32m~\\anaconda3\\envs\\dhdsblend2021\\lib\\site-packages\\sklearn\\neighbors\\_classification.py\u001b[0m in \u001b[0;36mpredict\u001b[1;34m(self, X)\u001b[0m\n\u001b[0;32m    171\u001b[0m             \u001b[0mClass\u001b[0m \u001b[0mlabels\u001b[0m \u001b[1;32mfor\u001b[0m \u001b[0meach\u001b[0m \u001b[0mdata\u001b[0m \u001b[0msample\u001b[0m\u001b[1;33m.\u001b[0m\u001b[1;33m\u001b[0m\u001b[1;33m\u001b[0m\u001b[0m\n\u001b[0;32m    172\u001b[0m         \"\"\"\n\u001b[1;32m--> 173\u001b[1;33m         \u001b[0mX\u001b[0m \u001b[1;33m=\u001b[0m \u001b[0mcheck_array\u001b[0m\u001b[1;33m(\u001b[0m\u001b[0mX\u001b[0m\u001b[1;33m,\u001b[0m \u001b[0maccept_sparse\u001b[0m\u001b[1;33m=\u001b[0m\u001b[1;34m'csr'\u001b[0m\u001b[1;33m)\u001b[0m\u001b[1;33m\u001b[0m\u001b[1;33m\u001b[0m\u001b[0m\n\u001b[0m\u001b[0;32m    174\u001b[0m \u001b[1;33m\u001b[0m\u001b[0m\n\u001b[0;32m    175\u001b[0m         \u001b[0mneigh_dist\u001b[0m\u001b[1;33m,\u001b[0m \u001b[0mneigh_ind\u001b[0m \u001b[1;33m=\u001b[0m \u001b[0mself\u001b[0m\u001b[1;33m.\u001b[0m\u001b[0mkneighbors\u001b[0m\u001b[1;33m(\u001b[0m\u001b[0mX\u001b[0m\u001b[1;33m)\u001b[0m\u001b[1;33m\u001b[0m\u001b[1;33m\u001b[0m\u001b[0m\n",
      "\u001b[1;32m~\\anaconda3\\envs\\dhdsblend2021\\lib\\site-packages\\sklearn\\utils\\validation.py\u001b[0m in \u001b[0;36minner_f\u001b[1;34m(*args, **kwargs)\u001b[0m\n\u001b[0;32m     70\u001b[0m                           FutureWarning)\n\u001b[0;32m     71\u001b[0m         \u001b[0mkwargs\u001b[0m\u001b[1;33m.\u001b[0m\u001b[0mupdate\u001b[0m\u001b[1;33m(\u001b[0m\u001b[1;33m{\u001b[0m\u001b[0mk\u001b[0m\u001b[1;33m:\u001b[0m \u001b[0marg\u001b[0m \u001b[1;32mfor\u001b[0m \u001b[0mk\u001b[0m\u001b[1;33m,\u001b[0m \u001b[0marg\u001b[0m \u001b[1;32min\u001b[0m \u001b[0mzip\u001b[0m\u001b[1;33m(\u001b[0m\u001b[0msig\u001b[0m\u001b[1;33m.\u001b[0m\u001b[0mparameters\u001b[0m\u001b[1;33m,\u001b[0m \u001b[0margs\u001b[0m\u001b[1;33m)\u001b[0m\u001b[1;33m}\u001b[0m\u001b[1;33m)\u001b[0m\u001b[1;33m\u001b[0m\u001b[1;33m\u001b[0m\u001b[0m\n\u001b[1;32m---> 72\u001b[1;33m         \u001b[1;32mreturn\u001b[0m \u001b[0mf\u001b[0m\u001b[1;33m(\u001b[0m\u001b[1;33m**\u001b[0m\u001b[0mkwargs\u001b[0m\u001b[1;33m)\u001b[0m\u001b[1;33m\u001b[0m\u001b[1;33m\u001b[0m\u001b[0m\n\u001b[0m\u001b[0;32m     73\u001b[0m     \u001b[1;32mreturn\u001b[0m \u001b[0minner_f\u001b[0m\u001b[1;33m\u001b[0m\u001b[1;33m\u001b[0m\u001b[0m\n\u001b[0;32m     74\u001b[0m \u001b[1;33m\u001b[0m\u001b[0m\n",
      "\u001b[1;32m~\\anaconda3\\envs\\dhdsblend2021\\lib\\site-packages\\sklearn\\utils\\validation.py\u001b[0m in \u001b[0;36mcheck_array\u001b[1;34m(array, accept_sparse, accept_large_sparse, dtype, order, copy, force_all_finite, ensure_2d, allow_nd, ensure_min_samples, ensure_min_features, estimator)\u001b[0m\n\u001b[0;32m    648\u001b[0m         \u001b[0mn_samples\u001b[0m \u001b[1;33m=\u001b[0m \u001b[0m_num_samples\u001b[0m\u001b[1;33m(\u001b[0m\u001b[0marray\u001b[0m\u001b[1;33m)\u001b[0m\u001b[1;33m\u001b[0m\u001b[1;33m\u001b[0m\u001b[0m\n\u001b[0;32m    649\u001b[0m         \u001b[1;32mif\u001b[0m \u001b[0mn_samples\u001b[0m \u001b[1;33m<\u001b[0m \u001b[0mensure_min_samples\u001b[0m\u001b[1;33m:\u001b[0m\u001b[1;33m\u001b[0m\u001b[1;33m\u001b[0m\u001b[0m\n\u001b[1;32m--> 650\u001b[1;33m             raise ValueError(\"Found array with %d sample(s) (shape=%s) while a\"\n\u001b[0m\u001b[0;32m    651\u001b[0m                              \u001b[1;34m\" minimum of %d is required%s.\"\u001b[0m\u001b[1;33m\u001b[0m\u001b[1;33m\u001b[0m\u001b[0m\n\u001b[0;32m    652\u001b[0m                              % (n_samples, array.shape, ensure_min_samples,\n",
      "\u001b[1;31mValueError\u001b[0m: Found array with 0 sample(s) (shape=(0, 13)) while a minimum of 1 is required."
     ]
    }
   ],
   "source": [
    "knn_cluster_2 = pd.Series(knn.predict(X2))"
   ]
  },
  {
   "cell_type": "code",
   "execution_count": null,
   "id": "f2643d57",
   "metadata": {},
   "outputs": [],
   "source": [
    "knn_cluster_2.value_counts(normalize=True)"
   ]
  },
  {
   "cell_type": "markdown",
   "id": "f293b724",
   "metadata": {},
   "source": [
    "# NB Gaussiano"
   ]
  },
  {
   "cell_type": "code",
   "execution_count": null,
   "id": "2f62c1a4",
   "metadata": {},
   "outputs": [],
   "source": [
    "gnb_cluster_0 = pd.Series(gnb.predict(X0))\n",
    "gnb_cluster_0.value_counts(normalize=True)"
   ]
  },
  {
   "cell_type": "code",
   "execution_count": null,
   "id": "75b94ee7",
   "metadata": {},
   "outputs": [],
   "source": [
    "gnb_cluster_1 = pd.Series(gnb.predict(X1))\n",
    "gnb_cluster_1.value_counts(normalize=True)"
   ]
  },
  {
   "cell_type": "markdown",
   "id": "aa03f6ba",
   "metadata": {},
   "source": [
    "# Regresión Logística"
   ]
  },
  {
   "cell_type": "code",
   "execution_count": null,
   "id": "66df1e4b",
   "metadata": {},
   "outputs": [],
   "source": [
    "lr_cluster_0 = pd.Series(lr.predict(X0))\n",
    "lr_cluster_0.value_counts(normalize=True)"
   ]
  },
  {
   "cell_type": "code",
   "execution_count": null,
   "id": "755d8e38",
   "metadata": {},
   "outputs": [],
   "source": [
    "lr_cluster_1= pd.Series(lr.predict(X1))\n",
    "lr_cluster_1.value_counts(normalize=True)"
   ]
  },
  {
   "cell_type": "code",
   "execution_count": null,
   "id": "abafb5cc",
   "metadata": {},
   "outputs": [],
   "source": []
  }
 ],
 "metadata": {
  "interpreter": {
   "hash": "7a44c7c3dce429ab80cd6e7b17b4d8851f04aedbdbf4eb6a60e9866723bbb642"
  },
  "kernelspec": {
   "display_name": "Python 3",
   "language": "python",
   "name": "python3"
  },
  "language_info": {
   "codemirror_mode": {
    "name": "ipython",
    "version": 3
   },
   "file_extension": ".py",
   "mimetype": "text/x-python",
   "name": "python",
   "nbconvert_exporter": "python",
   "pygments_lexer": "ipython3",
   "version": "3.8.8"
  }
 },
 "nbformat": 4,
 "nbformat_minor": 5
}
